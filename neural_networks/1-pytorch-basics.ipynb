{
 "metadata": {
  "language_info": {
   "codemirror_mode": {
    "name": "ipython",
    "version": 3
   },
   "file_extension": ".py",
   "mimetype": "text/x-python",
   "name": "python",
   "nbconvert_exporter": "python",
   "pygments_lexer": "ipython3",
   "version": "3.8.5-final"
  },
  "orig_nbformat": 2,
  "kernelspec": {
   "name": "Python 3.8.5 64-bit ('ml': conda)",
   "display_name": "Python 3.8.5 64-bit ('ml': conda)",
   "metadata": {
    "interpreter": {
     "hash": "2d3763d3bb1791bdccbe85b9064ed79a7395e444831096ec9c35c265824cffde"
    }
   }
  }
 },
 "nbformat": 4,
 "nbformat_minor": 2,
 "cells": [
  {
   "cell_type": "code",
   "execution_count": 1,
   "metadata": {},
   "outputs": [],
   "source": [
    "import torch"
   ]
  },
  {
   "cell_type": "code",
   "execution_count": 5,
   "metadata": {},
   "outputs": [
    {
     "output_type": "execute_result",
     "data": {
      "text/plain": [
       "tensor([[-1.4025e+03,  3.0667e-41, -2.0777e-19],\n",
       "        [ 4.5646e-41,  4.4842e-44,  0.0000e+00],\n",
       "        [ 8.9683e-44,  0.0000e+00, -1.3961e+03],\n",
       "        [ 3.0667e-41,  1.7853e-23,  4.5646e-41],\n",
       "        [ 3.4871e+10, -6.0830e+15,  1.8561e-23]])"
      ]
     },
     "metadata": {},
     "execution_count": 5
    }
   ],
   "source": [
    "# empty matrix\n",
    "torch.empty(5,3)"
   ]
  },
  {
   "cell_type": "code",
   "execution_count": 6,
   "metadata": {},
   "outputs": [
    {
     "output_type": "execute_result",
     "data": {
      "text/plain": [
       "tensor([[0.4914, 0.4167, 0.2991],\n",
       "        [0.7824, 0.8328, 0.3486],\n",
       "        [0.5981, 0.4514, 0.3977],\n",
       "        [0.4712, 0.3939, 0.9073],\n",
       "        [0.2050, 0.5062, 0.8150]])"
      ]
     },
     "metadata": {},
     "execution_count": 6
    }
   ],
   "source": [
    "torch.rand(5,3)"
   ]
  },
  {
   "cell_type": "code",
   "execution_count": 8,
   "metadata": {},
   "outputs": [
    {
     "output_type": "execute_result",
     "data": {
      "text/plain": [
       "tensor([[2.2000, 1.0000],\n",
       "        [0.2000, 3.0000]])"
      ]
     },
     "metadata": {},
     "execution_count": 8
    }
   ],
   "source": [
    "torch.tensor([[2.2, 1.0],[ 0.2, 3.0]])"
   ]
  },
  {
   "cell_type": "code",
   "execution_count": 59,
   "metadata": {},
   "outputs": [
    {
     "output_type": "stream",
     "name": "stdout",
     "text": [
      "tensor([[0.9990, 0.2840, 0.7426],\n        [0.1356, 0.5449, 0.3475],\n        [0.8112, 0.3039, 0.1372]])\ntensor([[0.2583, 0.3886, 0.6903],\n        [0.2567, 0.5371, 0.4416],\n        [0.7761, 0.6734, 0.2688]])\n=====================================\ntensor([[1.2573, 0.6726, 1.4329],\n        [0.3923, 1.0820, 0.7891],\n        [1.5872, 0.9773, 0.4061]])\ntensor([[1.2573, 0.6726, 1.4329],\n        [0.3923, 1.0820, 0.7891],\n        [1.5872, 0.9773, 0.4061]])\n"
     ]
    }
   ],
   "source": [
    "x = torch.rand(3,3)\n",
    "y = torch.rand(3,3)\n",
    "\n",
    "print(x)\n",
    "print(y)\n",
    "print(\"=====================================\")\n",
    "\n",
    "print(torch.add(x,y))\n",
    "print(y.add(x))"
   ]
  },
  {
   "cell_type": "code",
   "execution_count": 60,
   "metadata": {},
   "outputs": [
    {
     "output_type": "execute_result",
     "data": {
      "text/plain": [
       "tensor([0.7426, 0.3475, 0.1372])"
      ]
     },
     "metadata": {},
     "execution_count": 60
    }
   ],
   "source": [
    "x[:,2]"
   ]
  },
  {
   "cell_type": "code",
   "execution_count": 61,
   "metadata": {},
   "outputs": [
    {
     "output_type": "execute_result",
     "data": {
      "text/plain": [
       "tensor([[0.9990],\n",
       "        [0.2840],\n",
       "        [0.7426],\n",
       "        [0.1356],\n",
       "        [0.5449],\n",
       "        [0.3475],\n",
       "        [0.8112],\n",
       "        [0.3039],\n",
       "        [0.1372]])"
      ]
     },
     "metadata": {},
     "execution_count": 61
    }
   ],
   "source": [
    "# reshape tensor\n",
    "x.view(9,1)"
   ]
  },
  {
   "cell_type": "code",
   "execution_count": 62,
   "metadata": {},
   "outputs": [
    {
     "output_type": "execute_result",
     "data": {
      "text/plain": [
       "0.30386263132095337"
      ]
     },
     "metadata": {},
     "execution_count": 62
    }
   ],
   "source": [
    "# get value with .item()\n",
    "x[2,1].item()"
   ]
  },
  {
   "cell_type": "code",
   "execution_count": 63,
   "metadata": {},
   "outputs": [
    {
     "output_type": "execute_result",
     "data": {
      "text/plain": [
       "array([[0.9989867 , 0.2839948 , 0.74262834],\n",
       "       [0.13563436, 0.5449396 , 0.347548  ],\n",
       "       [0.81116724, 0.30386263, 0.13721019]], dtype=float32)"
      ]
     },
     "metadata": {},
     "execution_count": 63
    }
   ],
   "source": [
    "# convert to numpy\n",
    "x.numpy()"
   ]
  },
  {
   "cell_type": "code",
   "execution_count": 65,
   "metadata": {},
   "outputs": [
    {
     "output_type": "execute_result",
     "data": {
      "text/plain": [
       "tensor([[10.9990, 10.2840, 10.7426],\n",
       "        [10.1356, 10.5449, 10.3475],\n",
       "        [10.8112, 10.3039, 10.1372]])"
      ]
     },
     "metadata": {},
     "execution_count": 65
    }
   ],
   "source": [
    "x.add(10)"
   ]
  },
  {
   "cell_type": "code",
   "execution_count": 73,
   "metadata": {},
   "outputs": [
    {
     "output_type": "stream",
     "name": "stdout",
     "text": [
      "[[1.68430281 1.67457417 1.17681671 1.57493169 1.09798504]]\ntensor([[1.6843, 1.6746, 1.1768, 1.5749, 1.0980]], dtype=torch.float64)\n"
     ]
    }
   ],
   "source": [
    "import numpy as np\n",
    "a = np.random.rand(1,5)\n",
    "b = torch.from_numpy(a)\n",
    "np.add(a, 1, out=a)\n",
    "\n",
    "print(a)\n",
    "print(b)"
   ]
  },
  {
   "cell_type": "code",
   "execution_count": 75,
   "metadata": {},
   "outputs": [
    {
     "output_type": "stream",
     "name": "stdout",
     "text": [
      "tensor([[1.9990, 1.2840, 1.7426],\n        [1.1356, 1.5449, 1.3475],\n        [1.8112, 1.3039, 1.1372]], device='cuda:0')\ntensor([[1.9990, 1.2840, 1.7426],\n        [1.1356, 1.5449, 1.3475],\n        [1.8112, 1.3039, 1.1372]], dtype=torch.float64)\n"
     ]
    }
   ],
   "source": [
    "if torch.cuda.is_available():\n",
    "    device = torch.device(\"cuda\")\n",
    "    y = torch.ones_like(x, device=device)\n",
    "    x = x.to(device)\n",
    "    z = x+y\n",
    "    \n",
    "    print(z)\n",
    "    print(z.to(\"cpu\", torch.double))\n"
   ]
  },
  {
   "cell_type": "code",
   "execution_count": null,
   "metadata": {},
   "outputs": [],
   "source": []
  },
  {
   "cell_type": "code",
   "execution_count": null,
   "metadata": {},
   "outputs": [],
   "source": []
  },
  {
   "cell_type": "code",
   "execution_count": null,
   "metadata": {},
   "outputs": [],
   "source": []
  },
  {
   "cell_type": "code",
   "execution_count": null,
   "metadata": {},
   "outputs": [],
   "source": []
  },
  {
   "cell_type": "code",
   "execution_count": null,
   "metadata": {},
   "outputs": [],
   "source": []
  },
  {
   "cell_type": "code",
   "execution_count": null,
   "metadata": {},
   "outputs": [],
   "source": []
  },
  {
   "cell_type": "code",
   "execution_count": null,
   "metadata": {},
   "outputs": [],
   "source": []
  },
  {
   "cell_type": "code",
   "execution_count": null,
   "metadata": {},
   "outputs": [],
   "source": []
  },
  {
   "cell_type": "code",
   "execution_count": null,
   "metadata": {},
   "outputs": [],
   "source": []
  },
  {
   "cell_type": "code",
   "execution_count": null,
   "metadata": {},
   "outputs": [],
   "source": []
  },
  {
   "cell_type": "code",
   "execution_count": null,
   "metadata": {},
   "outputs": [],
   "source": []
  }
 ]
}