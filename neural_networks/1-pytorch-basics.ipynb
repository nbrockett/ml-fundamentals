{
 "metadata": {
  "language_info": {
   "codemirror_mode": {
    "name": "ipython",
    "version": 3
   },
   "file_extension": ".py",
   "mimetype": "text/x-python",
   "name": "python",
   "nbconvert_exporter": "python",
   "pygments_lexer": "ipython3",
   "version": "3.8.5-final"
  },
  "orig_nbformat": 2,
  "kernelspec": {
   "name": "Python 3.8.5 64-bit ('ml': conda)",
   "display_name": "Python 3.8.5 64-bit ('ml': conda)",
   "metadata": {
    "interpreter": {
     "hash": "2d3763d3bb1791bdccbe85b9064ed79a7395e444831096ec9c35c265824cffde"
    }
   }
  }
 },
 "nbformat": 4,
 "nbformat_minor": 2,
 "cells": [
  {
   "cell_type": "code",
   "execution_count": 1,
   "metadata": {},
   "outputs": [],
   "source": [
    "import torch"
   ]
  },
  {
   "cell_type": "code",
   "execution_count": 2,
   "metadata": {},
   "outputs": [
    {
     "output_type": "execute_result",
     "data": {
      "text/plain": [
       "tensor([[-2.7445e-33, -2.0127e-19,  1.4013e-45],\n",
       "        [ 0.0000e+00,  1.4013e-45,  1.6751e-37],\n",
       "        [ 0.0000e+00,  0.0000e+00,  0.0000e+00],\n",
       "        [ 1.6751e-37, -1.6757e+38,  4.5887e-41],\n",
       "        [-1.1575e-20,  1.6751e-37,  0.0000e+00]])"
      ]
     },
     "metadata": {},
     "execution_count": 2
    }
   ],
   "source": [
    "# empty matrix\n",
    "torch.empty(5,3)"
   ]
  },
  {
   "cell_type": "code",
   "execution_count": 3,
   "metadata": {},
   "outputs": [
    {
     "output_type": "execute_result",
     "data": {
      "text/plain": [
       "tensor([[0.2336, 0.2674, 0.6401],\n",
       "        [0.8528, 0.4248, 0.8306],\n",
       "        [0.6787, 0.1553, 0.1650],\n",
       "        [0.5629, 0.4210, 0.3223],\n",
       "        [0.5001, 0.5963, 0.4119]])"
      ]
     },
     "metadata": {},
     "execution_count": 3
    }
   ],
   "source": [
    "torch.rand(5,3)"
   ]
  },
  {
   "cell_type": "code",
   "execution_count": 4,
   "metadata": {},
   "outputs": [
    {
     "output_type": "execute_result",
     "data": {
      "text/plain": [
       "tensor([[2.2000, 1.0000],\n",
       "        [0.2000, 3.0000]])"
      ]
     },
     "metadata": {},
     "execution_count": 4
    }
   ],
   "source": [
    "torch.tensor([[2.2, 1.0],[ 0.2, 3.0]])"
   ]
  },
  {
   "cell_type": "code",
   "execution_count": 5,
   "metadata": {},
   "outputs": [
    {
     "output_type": "stream",
     "name": "stdout",
     "text": [
      "tensor([[0.9985, 0.3267, 0.9495],\n        [0.5645, 0.1429, 0.0695],\n        [0.2516, 0.0397, 0.0391]])\ntensor([[0.3312, 0.9406, 0.6410],\n        [0.8410, 0.7808, 0.3270],\n        [0.4759, 0.8584, 0.2059]])\n=====================================\ntensor([[1.3297, 1.2673, 1.5904],\n        [1.4055, 0.9237, 0.3965],\n        [0.7275, 0.8981, 0.2450]])\ntensor([[1.3297, 1.2673, 1.5904],\n        [1.4055, 0.9237, 0.3965],\n        [0.7275, 0.8981, 0.2450]])\n"
     ]
    }
   ],
   "source": [
    "x = torch.rand(3,3)\n",
    "y = torch.rand(3,3)\n",
    "\n",
    "print(x)\n",
    "print(y)\n",
    "print(\"=====================================\")\n",
    "\n",
    "print(torch.add(x,y))\n",
    "print(y.add(x))"
   ]
  },
  {
   "cell_type": "code",
   "execution_count": 6,
   "metadata": {},
   "outputs": [
    {
     "output_type": "execute_result",
     "data": {
      "text/plain": [
       "tensor([0.9495, 0.0695, 0.0391])"
      ]
     },
     "metadata": {},
     "execution_count": 6
    }
   ],
   "source": [
    "x[:,2]"
   ]
  },
  {
   "cell_type": "code",
   "execution_count": 7,
   "metadata": {},
   "outputs": [
    {
     "output_type": "execute_result",
     "data": {
      "text/plain": [
       "tensor([[0.9985],\n",
       "        [0.3267],\n",
       "        [0.9495],\n",
       "        [0.5645],\n",
       "        [0.1429],\n",
       "        [0.0695],\n",
       "        [0.2516],\n",
       "        [0.0397],\n",
       "        [0.0391]])"
      ]
     },
     "metadata": {},
     "execution_count": 7
    }
   ],
   "source": [
    "# reshape tensor\n",
    "x.view(9,1)"
   ]
  },
  {
   "cell_type": "code",
   "execution_count": 8,
   "metadata": {},
   "outputs": [
    {
     "output_type": "execute_result",
     "data": {
      "text/plain": [
       "0.0396881103515625"
      ]
     },
     "metadata": {},
     "execution_count": 8
    }
   ],
   "source": [
    "# get value with .item()\n",
    "x[2,1].item()"
   ]
  },
  {
   "cell_type": "code",
   "execution_count": 9,
   "metadata": {},
   "outputs": [
    {
     "output_type": "execute_result",
     "data": {
      "text/plain": [
       "array([[0.99846184, 0.32674825, 0.94948655],\n",
       "       [0.56450367, 0.14286959, 0.06953365],\n",
       "       [0.25159055, 0.03968811, 0.03912282]], dtype=float32)"
      ]
     },
     "metadata": {},
     "execution_count": 9
    }
   ],
   "source": [
    "# convert to numpy\n",
    "x.numpy()"
   ]
  },
  {
   "cell_type": "code",
   "execution_count": 10,
   "metadata": {},
   "outputs": [
    {
     "output_type": "execute_result",
     "data": {
      "text/plain": [
       "tensor([[10.9985, 10.3267, 10.9495],\n",
       "        [10.5645, 10.1429, 10.0695],\n",
       "        [10.2516, 10.0397, 10.0391]])"
      ]
     },
     "metadata": {},
     "execution_count": 10
    }
   ],
   "source": [
    "x.add(10)"
   ]
  },
  {
   "cell_type": "code",
   "execution_count": 11,
   "metadata": {},
   "outputs": [
    {
     "output_type": "stream",
     "name": "stdout",
     "text": [
      "[[1.70098768 1.90954209 1.44068534 1.20375881 1.03660735]]\ntensor([[1.7010, 1.9095, 1.4407, 1.2038, 1.0366]], dtype=torch.float64)\n"
     ]
    }
   ],
   "source": [
    "import numpy as np\n",
    "a = np.random.rand(1,5)\n",
    "b = torch.from_numpy(a)\n",
    "np.add(a, 1, out=a)\n",
    "\n",
    "print(a)\n",
    "print(b)"
   ]
  },
  {
   "cell_type": "code",
   "execution_count": 12,
   "metadata": {},
   "outputs": [
    {
     "output_type": "stream",
     "name": "stdout",
     "text": [
      "tensor([[1.9985, 1.3267, 1.9495],\n        [1.5645, 1.1429, 1.0695],\n        [1.2516, 1.0397, 1.0391]], device='cuda:0')\ntensor([[1.9985, 1.3267, 1.9495],\n        [1.5645, 1.1429, 1.0695],\n        [1.2516, 1.0397, 1.0391]], dtype=torch.float64)\n"
     ]
    }
   ],
   "source": [
    "if torch.cuda.is_available():\n",
    "    device = torch.device(\"cuda\")\n",
    "    y = torch.ones_like(x, device=device)\n",
    "    x = x.to(device)\n",
    "    z = x+y\n",
    "    \n",
    "    print(z)\n",
    "    print(z.to(\"cpu\", torch.double))\n"
   ]
  },
  {
   "cell_type": "code",
   "execution_count": null,
   "metadata": {},
   "outputs": [],
   "source": []
  },
  {
   "cell_type": "code",
   "execution_count": null,
   "metadata": {},
   "outputs": [],
   "source": []
  },
  {
   "cell_type": "code",
   "execution_count": null,
   "metadata": {},
   "outputs": [],
   "source": []
  },
  {
   "cell_type": "code",
   "execution_count": null,
   "metadata": {},
   "outputs": [],
   "source": []
  },
  {
   "cell_type": "code",
   "execution_count": null,
   "metadata": {},
   "outputs": [],
   "source": []
  },
  {
   "cell_type": "code",
   "execution_count": null,
   "metadata": {},
   "outputs": [],
   "source": []
  },
  {
   "cell_type": "code",
   "execution_count": null,
   "metadata": {},
   "outputs": [],
   "source": []
  },
  {
   "cell_type": "code",
   "execution_count": null,
   "metadata": {},
   "outputs": [],
   "source": []
  },
  {
   "cell_type": "code",
   "execution_count": null,
   "metadata": {},
   "outputs": [],
   "source": []
  },
  {
   "cell_type": "code",
   "execution_count": null,
   "metadata": {},
   "outputs": [],
   "source": []
  },
  {
   "cell_type": "code",
   "execution_count": null,
   "metadata": {},
   "outputs": [],
   "source": []
  }
 ]
}