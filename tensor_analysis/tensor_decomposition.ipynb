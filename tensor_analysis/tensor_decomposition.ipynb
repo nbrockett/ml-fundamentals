{
 "metadata": {
  "language_info": {
   "codemirror_mode": {
    "name": "ipython",
    "version": 3
   },
   "file_extension": ".py",
   "mimetype": "text/x-python",
   "name": "python",
   "nbconvert_exporter": "python",
   "pygments_lexer": "ipython3",
   "version": "3.8.5-final"
  },
  "orig_nbformat": 2,
  "kernelspec": {
   "name": "Python 3.8.5 64-bit ('ml': conda)",
   "display_name": "Python 3.8.5 64-bit ('ml': conda)",
   "metadata": {
    "interpreter": {
     "hash": "2d3763d3bb1791bdccbe85b9064ed79a7395e444831096ec9c35c265824cffde"
    }
   }
  }
 },
 "nbformat": 4,
 "nbformat_minor": 2,
 "cells": [
  {
   "source": [
    "# Introduction Example"
   ],
   "cell_type": "markdown",
   "metadata": {}
  },
  {
   "cell_type": "code",
   "execution_count": 1,
   "metadata": {},
   "outputs": [
    {
     "output_type": "execute_result",
     "data": {
      "text/plain": [
       "tensor([[[ 0.,  1.],\n",
       "         [ 2.,  3.],\n",
       "         [ 4.,  5.],\n",
       "         [ 6.,  7.]],\n",
       "\n",
       "        [[ 8.,  9.],\n",
       "         [10., 11.],\n",
       "         [12., 13.],\n",
       "         [14., 15.]],\n",
       "\n",
       "        [[16., 17.],\n",
       "         [18., 19.],\n",
       "         [20., 21.],\n",
       "         [22., 23.]]], device='cuda:0')"
      ]
     },
     "metadata": {},
     "execution_count": 1
    }
   ],
   "source": [
    "import tensorly as tl\n",
    "import numpy as np\n",
    "\n",
    "tl.set_backend('pytorch') # Or 'mxnet', 'numpy', 'tensorflow' or 'cupy'\n",
    "\n",
    "# tensor of size 3x4x2\n",
    "tensor = tl.tensor(np.arange(24).reshape((3, 4, 2)), device='cuda:0')\n",
    "unfolded = tl.unfold(tensor, mode=0)\n",
    "tl.fold(unfolded, mode=0, shape=tensor.shape)"
   ]
  },
  {
   "cell_type": "code",
   "execution_count": 2,
   "metadata": {},
   "outputs": [
    {
     "output_type": "execute_result",
     "data": {
      "text/plain": [
       "tensor([[[-3.6955e-06,  1.0000e+00],\n",
       "         [ 2.0000e+00,  3.0000e+00],\n",
       "         [ 4.0000e+00,  5.0000e+00],\n",
       "         [ 6.0000e+00,  7.0000e+00]],\n",
       "\n",
       "        [[ 8.0000e+00,  9.0000e+00],\n",
       "         [ 1.0000e+01,  1.1000e+01],\n",
       "         [ 1.2000e+01,  1.3000e+01],\n",
       "         [ 1.4000e+01,  1.5000e+01]],\n",
       "\n",
       "        [[ 1.6000e+01,  1.7000e+01],\n",
       "         [ 1.8000e+01,  1.9000e+01],\n",
       "         [ 2.0000e+01,  2.1000e+01],\n",
       "         [ 2.2000e+01,  2.3000e+01]]], device='cuda:0')"
      ]
     },
     "metadata": {},
     "execution_count": 2
    }
   ],
   "source": [
    "from tensorly.decomposition import tucker\n",
    "# Apply Tucker decomposition\n",
    "tucker_tensor = tucker(tensor, rank=[2, 2, 2])\n",
    "# Reconstruct the full tensor from the decomposed form\n",
    "tl.tucker_to_tensor(tucker_tensor)"
   ]
  },
  {
   "cell_type": "code",
   "execution_count": 11,
   "metadata": {},
   "outputs": [
    {
     "output_type": "execute_result",
     "data": {
      "text/plain": [
       "torch.Tensor"
      ]
     },
     "metadata": {},
     "execution_count": 11
    }
   ],
   "source": []
  },
  {
   "source": [
    "# CP decomposition"
   ],
   "cell_type": "markdown",
   "metadata": {}
  },
  {
   "cell_type": "code",
   "execution_count": 7,
   "metadata": {},
   "outputs": [
    {
     "output_type": "execute_result",
     "data": {
      "text/plain": [
       "tensor([[0., 0., 0., 0., 0., 0., 0., 0., 0., 0., 0., 0.],\n",
       "        [0., 0., 0., 0., 1., 1., 1., 1., 0., 0., 0., 0.],\n",
       "        [0., 0., 0., 0., 1., 1., 1., 1., 0., 0., 0., 0.],\n",
       "        [0., 0., 0., 0., 1., 1., 1., 1., 0., 0., 0., 0.],\n",
       "        [0., 1., 1., 1., 1., 1., 1., 1., 1., 1., 1., 0.],\n",
       "        [0., 1., 1., 1., 1., 1., 1., 1., 1., 1., 1., 0.],\n",
       "        [0., 1., 1., 1., 1., 1., 1., 1., 1., 1., 1., 0.],\n",
       "        [0., 1., 1., 1., 1., 1., 1., 1., 1., 1., 1., 0.],\n",
       "        [0., 0., 0., 0., 1., 1., 1., 1., 0., 0., 0., 0.],\n",
       "        [0., 0., 0., 0., 1., 1., 1., 1., 0., 0., 0., 0.],\n",
       "        [0., 0., 0., 0., 1., 1., 1., 1., 0., 0., 0., 0.],\n",
       "        [0., 0., 0., 0., 0., 0., 0., 0., 0., 0., 0., 0.]], device='cuda:0')"
      ]
     },
     "metadata": {},
     "execution_count": 7
    }
   ],
   "source": [
    "tensor = tl.tensor([[ 0.,  0.,  0.,  0.,  0.,  0.,  0.,  0.,  0.,  0.,  0.,  0.],\n",
    "                        [ 0.,  0.,  0.,  0.,  1.,  1.,  1.,  1.,  0.,  0.,  0.,  0.],\n",
    "                        [ 0.,  0.,  0.,  0.,  1.,  1.,  1.,  1.,  0.,  0.,  0.,  0.],\n",
    "                        [ 0.,  0.,  0.,  0.,  1.,  1.,  1.,  1.,  0.,  0.,  0.,  0.],\n",
    "                        [ 0.,  1.,  1.,  1.,  1.,  1.,  1.,  1.,  1.,  1.,  1.,  0.],\n",
    "                        [ 0.,  1.,  1.,  1.,  1.,  1.,  1.,  1.,  1.,  1.,  1.,  0.],\n",
    "                        [ 0.,  1.,  1.,  1.,  1.,  1.,  1.,  1.,  1.,  1.,  1.,  0.],\n",
    "                        [ 0.,  1.,  1.,  1.,  1.,  1.,  1.,  1.,  1.,  1.,  1.,  0.],\n",
    "                        [ 0.,  0.,  0.,  0.,  1.,  1.,  1.,  1.,  0.,  0.,  0.,  0.],\n",
    "                        [ 0.,  0.,  0.,  0.,  1.,  1.,  1.,  1.,  0.,  0.,  0.,  0.],\n",
    "                        [ 0.,  0.,  0.,  0.,  1.,  1.,  1.,  1.,  0.,  0.,  0.,  0.],\n",
    "                        [ 0.,  0.,  0.,  0.,  0.,  0.,  0.,  0.,  0.,  0.,  0.,  0.]], device='cuda:0')\n",
    "\n",
    "tensor\n",
    "\n",
    "\n"
   ]
  },
  {
   "cell_type": "code",
   "execution_count": 11,
   "metadata": {},
   "outputs": [
    {
     "output_type": "execute_result",
     "data": {
      "text/plain": [
       "torch.Size([12, 12])"
      ]
     },
     "metadata": {},
     "execution_count": 11
    }
   ],
   "source": [
    "tensor.shape"
   ]
  },
  {
   "cell_type": "code",
   "execution_count": 10,
   "metadata": {},
   "outputs": [
    {
     "output_type": "stream",
     "name": "stdout",
     "text": [
      "Starting iteration 1\nMode 0 of 2\nMode 1 of 2\nreconstruction error=0.0003452669770922512\nStarting iteration 2\nMode 0 of 2\nMode 1 of 2\niteration 1, reconstruction error: 0.0003452669770922512, decrease = 0.0, unnormalized = 0.0027621358167380095\nPARAFAC converged after 1 iterations\n"
     ]
    },
    {
     "output_type": "execute_result",
     "data": {
      "text/plain": [
       "2"
      ]
     },
     "metadata": {},
     "execution_count": 10
    }
   ],
   "source": [
    "from tensorly.decomposition import parafac\n",
    "factors = parafac(tensor, rank=2, verbose=2)\n",
    "len(factors)"
   ]
  },
  {
   "cell_type": "code",
   "execution_count": 9,
   "metadata": {},
   "outputs": [
    {
     "output_type": "execute_result",
     "data": {
      "text/plain": [
       "[tensor([[ 0.0000,  0.0000],\n",
       "         [ 1.6601,  1.1154],\n",
       "         [ 1.6601,  1.1154],\n",
       "         [ 1.6601,  1.1154],\n",
       "         [ 3.0262, -0.9178],\n",
       "         [ 3.0262, -0.9178],\n",
       "         [ 3.0262, -0.9178],\n",
       "         [ 3.0262, -0.9178],\n",
       "         [ 1.6601,  1.1154],\n",
       "         [ 1.6601,  1.1154],\n",
       "         [ 1.6601,  1.1154],\n",
       "         [ 0.0000,  0.0000]], device='cuda:0'),\n",
       " tensor([[ 0.0000,  0.0000],\n",
       "         [ 0.2277, -0.3389],\n",
       "         [ 0.2277, -0.3389],\n",
       "         [ 0.2277, -0.3389],\n",
       "         [ 0.4150,  0.2788],\n",
       "         [ 0.4150,  0.2788],\n",
       "         [ 0.4150,  0.2788],\n",
       "         [ 0.4150,  0.2788],\n",
       "         [ 0.2277, -0.3389],\n",
       "         [ 0.2277, -0.3389],\n",
       "         [ 0.2277, -0.3389],\n",
       "         [ 0.0000,  0.0000]], device='cuda:0')]"
      ]
     },
     "metadata": {},
     "execution_count": 9
    }
   ],
   "source": [
    "factors.factors"
   ]
  },
  {
   "cell_type": "code",
   "execution_count": 6,
   "metadata": {},
   "outputs": [
    {
     "output_type": "execute_result",
     "data": {
      "text/plain": [
       "tensor([[ 0.0000e+00,  0.0000e+00,  0.0000e+00,  0.0000e+00,  0.0000e+00,\n",
       "          0.0000e+00,  0.0000e+00,  0.0000e+00,  0.0000e+00,  0.0000e+00,\n",
       "          0.0000e+00,  0.0000e+00],\n",
       "        [ 0.0000e+00, -8.6824e-08, -8.6824e-08, -8.6824e-08,  1.0000e+00,\n",
       "          1.0000e+00,  1.0000e+00,  1.0000e+00, -8.6824e-08, -8.6824e-08,\n",
       "         -8.6824e-08,  0.0000e+00],\n",
       "        [ 0.0000e+00, -8.6824e-08, -8.6824e-08, -8.6824e-08,  1.0000e+00,\n",
       "          1.0000e+00,  1.0000e+00,  1.0000e+00, -8.6824e-08, -8.6824e-08,\n",
       "         -8.6824e-08,  0.0000e+00],\n",
       "        [ 0.0000e+00, -8.6824e-08, -8.6824e-08, -8.6824e-08,  1.0000e+00,\n",
       "          1.0000e+00,  1.0000e+00,  1.0000e+00, -8.6824e-08, -8.6824e-08,\n",
       "         -8.6824e-08,  0.0000e+00],\n",
       "        [ 0.0000e+00,  1.0000e+00,  1.0000e+00,  1.0000e+00,  1.0000e+00,\n",
       "          1.0000e+00,  1.0000e+00,  1.0000e+00,  1.0000e+00,  1.0000e+00,\n",
       "          1.0000e+00,  0.0000e+00],\n",
       "        [ 0.0000e+00,  1.0000e+00,  1.0000e+00,  1.0000e+00,  1.0000e+00,\n",
       "          1.0000e+00,  1.0000e+00,  1.0000e+00,  1.0000e+00,  1.0000e+00,\n",
       "          1.0000e+00,  0.0000e+00],\n",
       "        [ 0.0000e+00,  1.0000e+00,  1.0000e+00,  1.0000e+00,  1.0000e+00,\n",
       "          1.0000e+00,  1.0000e+00,  1.0000e+00,  1.0000e+00,  1.0000e+00,\n",
       "          1.0000e+00,  0.0000e+00],\n",
       "        [ 0.0000e+00,  1.0000e+00,  1.0000e+00,  1.0000e+00,  1.0000e+00,\n",
       "          1.0000e+00,  1.0000e+00,  1.0000e+00,  1.0000e+00,  1.0000e+00,\n",
       "          1.0000e+00,  0.0000e+00],\n",
       "        [ 0.0000e+00, -8.6824e-08, -8.6824e-08, -8.6824e-08,  1.0000e+00,\n",
       "          1.0000e+00,  1.0000e+00,  1.0000e+00, -8.6824e-08, -8.6824e-08,\n",
       "         -8.6824e-08,  0.0000e+00],\n",
       "        [ 0.0000e+00, -8.6824e-08, -8.6824e-08, -8.6824e-08,  1.0000e+00,\n",
       "          1.0000e+00,  1.0000e+00,  1.0000e+00, -8.6824e-08, -8.6824e-08,\n",
       "         -8.6824e-08,  0.0000e+00],\n",
       "        [ 0.0000e+00, -8.6824e-08, -8.6824e-08, -8.6824e-08,  1.0000e+00,\n",
       "          1.0000e+00,  1.0000e+00,  1.0000e+00, -8.6824e-08, -8.6824e-08,\n",
       "         -8.6824e-08,  0.0000e+00],\n",
       "        [ 0.0000e+00,  0.0000e+00,  0.0000e+00,  0.0000e+00,  0.0000e+00,\n",
       "          0.0000e+00,  0.0000e+00,  0.0000e+00,  0.0000e+00,  0.0000e+00,\n",
       "          0.0000e+00,  0.0000e+00]], device='cuda:0')"
      ]
     },
     "metadata": {},
     "execution_count": 6
    }
   ],
   "source": [
    "# construct back to full tensor\n",
    "tl.cp_to_tensor(factors)"
   ]
  },
  {
   "cell_type": "code",
   "execution_count": null,
   "metadata": {},
   "outputs": [],
   "source": []
  }
 ]
}