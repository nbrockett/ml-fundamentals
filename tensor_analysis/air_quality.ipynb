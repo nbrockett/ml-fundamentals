{
 "metadata": {
  "language_info": {
   "codemirror_mode": {
    "name": "ipython",
    "version": 3
   },
   "file_extension": ".py",
   "mimetype": "text/x-python",
   "name": "python",
   "nbconvert_exporter": "python",
   "pygments_lexer": "ipython3",
   "version": "3.8.5-final"
  },
  "orig_nbformat": 2,
  "kernelspec": {
   "name": "Python 3.8.5 64-bit ('ml': conda)",
   "display_name": "Python 3.8.5 64-bit ('ml': conda)",
   "metadata": {
    "interpreter": {
     "hash": "2d3763d3bb1791bdccbe85b9064ed79a7395e444831096ec9c35c265824cffde"
    }
   }
  }
 },
 "nbformat": 4,
 "nbformat_minor": 2,
 "cells": [
  {
   "source": [
    "# Air Quality Tensor Decomposition"
   ],
   "cell_type": "markdown",
   "metadata": {}
  },
  {
   "cell_type": "code",
   "execution_count": 14,
   "metadata": {},
   "outputs": [
    {
     "output_type": "execute_result",
     "data": {
      "text/plain": [
       "tensor([[[ 0.,  1.],\n",
       "         [ 2.,  3.],\n",
       "         [ 4.,  5.],\n",
       "         [ 6.,  7.]],\n",
       "\n",
       "        [[ 8.,  9.],\n",
       "         [10., 11.],\n",
       "         [12., 13.],\n",
       "         [14., 15.]],\n",
       "\n",
       "        [[16., 17.],\n",
       "         [18., 19.],\n",
       "         [20., 21.],\n",
       "         [22., 23.]]], device='cuda:0')"
      ]
     },
     "metadata": {},
     "execution_count": 14
    }
   ],
   "source": [
    "import tensorly as tl\n",
    "import numpy as np\n",
    "import pandas as pd\n",
    "import datetime\n",
    "\n",
    "tl.set_backend('pytorch') # Or 'mxnet', 'numpy', 'tensorflow' or 'cupy'\n",
    "\n",
    "# tensor of size 3x4x2\n",
    "tensor = tl.tensor(np.arange(24).reshape((3, 4, 2)), device='cuda:0')\n",
    "unfolded = tl.unfold(tensor, mode=0)\n",
    "tl.fold(unfolded, mode=0, shape=tensor.shape)"
   ]
  },
  {
   "cell_type": "code",
   "execution_count": 13,
   "metadata": {},
   "outputs": [
    {
     "output_type": "execute_result",
     "data": {
      "text/plain": [
       "          No  year  month  day  hour  PM2.5  PM10   SO2   NO2     CO    O3  \\\n",
       "0          1  2013      3    1     0    4.0   4.0   4.0   7.0  300.0  77.0   \n",
       "1          2  2013      3    1     1    8.0   8.0   4.0   7.0  300.0  77.0   \n",
       "2          3  2013      3    1     2    7.0   7.0   5.0  10.0  300.0  73.0   \n",
       "3          4  2013      3    1     3    6.0   6.0  11.0  11.0  300.0  72.0   \n",
       "4          5  2013      3    1     4    3.0   3.0  12.0  12.0  300.0  72.0   \n",
       "...      ...   ...    ...  ...   ...    ...   ...   ...   ...    ...   ...   \n",
       "35059  35060  2017      2   28    19   12.0  29.0   5.0  35.0  400.0  95.0   \n",
       "35060  35061  2017      2   28    20   13.0  37.0   7.0  45.0  500.0  81.0   \n",
       "35061  35062  2017      2   28    21   16.0  37.0  10.0  66.0  700.0  58.0   \n",
       "35062  35063  2017      2   28    22   21.0  44.0  12.0  87.0  700.0  35.0   \n",
       "35063  35064  2017      2   28    23   19.0  31.0  10.0  79.0  600.0  42.0   \n",
       "\n",
       "       TEMP    PRES  DEWP  RAIN   wd  WSPM       station  \n",
       "0      -0.7  1023.0 -18.8   0.0  NNW   4.4  Aotizhongxin  \n",
       "1      -1.1  1023.2 -18.2   0.0    N   4.7  Aotizhongxin  \n",
       "2      -1.1  1023.5 -18.2   0.0  NNW   5.6  Aotizhongxin  \n",
       "3      -1.4  1024.5 -19.4   0.0   NW   3.1  Aotizhongxin  \n",
       "4      -2.0  1025.2 -19.5   0.0    N   2.0  Aotizhongxin  \n",
       "...     ...     ...   ...   ...  ...   ...           ...  \n",
       "35059  12.5  1013.5 -16.2   0.0   NW   2.4  Aotizhongxin  \n",
       "35060  11.6  1013.6 -15.1   0.0  WNW   0.9  Aotizhongxin  \n",
       "35061  10.8  1014.2 -13.3   0.0   NW   1.1  Aotizhongxin  \n",
       "35062  10.5  1014.4 -12.9   0.0  NNW   1.2  Aotizhongxin  \n",
       "35063   8.6  1014.1 -15.9   0.0  NNE   1.3  Aotizhongxin  \n",
       "\n",
       "[35064 rows x 18 columns]"
      ],
      "text/html": "<div>\n<style scoped>\n    .dataframe tbody tr th:only-of-type {\n        vertical-align: middle;\n    }\n\n    .dataframe tbody tr th {\n        vertical-align: top;\n    }\n\n    .dataframe thead th {\n        text-align: right;\n    }\n</style>\n<table border=\"1\" class=\"dataframe\">\n  <thead>\n    <tr style=\"text-align: right;\">\n      <th></th>\n      <th>No</th>\n      <th>year</th>\n      <th>month</th>\n      <th>day</th>\n      <th>hour</th>\n      <th>PM2.5</th>\n      <th>PM10</th>\n      <th>SO2</th>\n      <th>NO2</th>\n      <th>CO</th>\n      <th>O3</th>\n      <th>TEMP</th>\n      <th>PRES</th>\n      <th>DEWP</th>\n      <th>RAIN</th>\n      <th>wd</th>\n      <th>WSPM</th>\n      <th>station</th>\n    </tr>\n  </thead>\n  <tbody>\n    <tr>\n      <th>0</th>\n      <td>1</td>\n      <td>2013</td>\n      <td>3</td>\n      <td>1</td>\n      <td>0</td>\n      <td>4.0</td>\n      <td>4.0</td>\n      <td>4.0</td>\n      <td>7.0</td>\n      <td>300.0</td>\n      <td>77.0</td>\n      <td>-0.7</td>\n      <td>1023.0</td>\n      <td>-18.8</td>\n      <td>0.0</td>\n      <td>NNW</td>\n      <td>4.4</td>\n      <td>Aotizhongxin</td>\n    </tr>\n    <tr>\n      <th>1</th>\n      <td>2</td>\n      <td>2013</td>\n      <td>3</td>\n      <td>1</td>\n      <td>1</td>\n      <td>8.0</td>\n      <td>8.0</td>\n      <td>4.0</td>\n      <td>7.0</td>\n      <td>300.0</td>\n      <td>77.0</td>\n      <td>-1.1</td>\n      <td>1023.2</td>\n      <td>-18.2</td>\n      <td>0.0</td>\n      <td>N</td>\n      <td>4.7</td>\n      <td>Aotizhongxin</td>\n    </tr>\n    <tr>\n      <th>2</th>\n      <td>3</td>\n      <td>2013</td>\n      <td>3</td>\n      <td>1</td>\n      <td>2</td>\n      <td>7.0</td>\n      <td>7.0</td>\n      <td>5.0</td>\n      <td>10.0</td>\n      <td>300.0</td>\n      <td>73.0</td>\n      <td>-1.1</td>\n      <td>1023.5</td>\n      <td>-18.2</td>\n      <td>0.0</td>\n      <td>NNW</td>\n      <td>5.6</td>\n      <td>Aotizhongxin</td>\n    </tr>\n    <tr>\n      <th>3</th>\n      <td>4</td>\n      <td>2013</td>\n      <td>3</td>\n      <td>1</td>\n      <td>3</td>\n      <td>6.0</td>\n      <td>6.0</td>\n      <td>11.0</td>\n      <td>11.0</td>\n      <td>300.0</td>\n      <td>72.0</td>\n      <td>-1.4</td>\n      <td>1024.5</td>\n      <td>-19.4</td>\n      <td>0.0</td>\n      <td>NW</td>\n      <td>3.1</td>\n      <td>Aotizhongxin</td>\n    </tr>\n    <tr>\n      <th>4</th>\n      <td>5</td>\n      <td>2013</td>\n      <td>3</td>\n      <td>1</td>\n      <td>4</td>\n      <td>3.0</td>\n      <td>3.0</td>\n      <td>12.0</td>\n      <td>12.0</td>\n      <td>300.0</td>\n      <td>72.0</td>\n      <td>-2.0</td>\n      <td>1025.2</td>\n      <td>-19.5</td>\n      <td>0.0</td>\n      <td>N</td>\n      <td>2.0</td>\n      <td>Aotizhongxin</td>\n    </tr>\n    <tr>\n      <th>...</th>\n      <td>...</td>\n      <td>...</td>\n      <td>...</td>\n      <td>...</td>\n      <td>...</td>\n      <td>...</td>\n      <td>...</td>\n      <td>...</td>\n      <td>...</td>\n      <td>...</td>\n      <td>...</td>\n      <td>...</td>\n      <td>...</td>\n      <td>...</td>\n      <td>...</td>\n      <td>...</td>\n      <td>...</td>\n      <td>...</td>\n    </tr>\n    <tr>\n      <th>35059</th>\n      <td>35060</td>\n      <td>2017</td>\n      <td>2</td>\n      <td>28</td>\n      <td>19</td>\n      <td>12.0</td>\n      <td>29.0</td>\n      <td>5.0</td>\n      <td>35.0</td>\n      <td>400.0</td>\n      <td>95.0</td>\n      <td>12.5</td>\n      <td>1013.5</td>\n      <td>-16.2</td>\n      <td>0.0</td>\n      <td>NW</td>\n      <td>2.4</td>\n      <td>Aotizhongxin</td>\n    </tr>\n    <tr>\n      <th>35060</th>\n      <td>35061</td>\n      <td>2017</td>\n      <td>2</td>\n      <td>28</td>\n      <td>20</td>\n      <td>13.0</td>\n      <td>37.0</td>\n      <td>7.0</td>\n      <td>45.0</td>\n      <td>500.0</td>\n      <td>81.0</td>\n      <td>11.6</td>\n      <td>1013.6</td>\n      <td>-15.1</td>\n      <td>0.0</td>\n      <td>WNW</td>\n      <td>0.9</td>\n      <td>Aotizhongxin</td>\n    </tr>\n    <tr>\n      <th>35061</th>\n      <td>35062</td>\n      <td>2017</td>\n      <td>2</td>\n      <td>28</td>\n      <td>21</td>\n      <td>16.0</td>\n      <td>37.0</td>\n      <td>10.0</td>\n      <td>66.0</td>\n      <td>700.0</td>\n      <td>58.0</td>\n      <td>10.8</td>\n      <td>1014.2</td>\n      <td>-13.3</td>\n      <td>0.0</td>\n      <td>NW</td>\n      <td>1.1</td>\n      <td>Aotizhongxin</td>\n    </tr>\n    <tr>\n      <th>35062</th>\n      <td>35063</td>\n      <td>2017</td>\n      <td>2</td>\n      <td>28</td>\n      <td>22</td>\n      <td>21.0</td>\n      <td>44.0</td>\n      <td>12.0</td>\n      <td>87.0</td>\n      <td>700.0</td>\n      <td>35.0</td>\n      <td>10.5</td>\n      <td>1014.4</td>\n      <td>-12.9</td>\n      <td>0.0</td>\n      <td>NNW</td>\n      <td>1.2</td>\n      <td>Aotizhongxin</td>\n    </tr>\n    <tr>\n      <th>35063</th>\n      <td>35064</td>\n      <td>2017</td>\n      <td>2</td>\n      <td>28</td>\n      <td>23</td>\n      <td>19.0</td>\n      <td>31.0</td>\n      <td>10.0</td>\n      <td>79.0</td>\n      <td>600.0</td>\n      <td>42.0</td>\n      <td>8.6</td>\n      <td>1014.1</td>\n      <td>-15.9</td>\n      <td>0.0</td>\n      <td>NNE</td>\n      <td>1.3</td>\n      <td>Aotizhongxin</td>\n    </tr>\n  </tbody>\n</table>\n<p>35064 rows × 18 columns</p>\n</div>"
     },
     "metadata": {},
     "execution_count": 13
    }
   ],
   "source": [
    "df = pd.read_csv('../data/PRSA/PRSA_Data_Aotizhongxin_20130301-20170228.csv')\n",
    "df"
   ]
  },
  {
   "cell_type": "code",
   "execution_count": 18,
   "metadata": {},
   "outputs": [],
   "source": [
    "df['datetime'] = df[['year','month','day','hour']].apply(lambda x: pd.datetime.strptime(str(x['year'])+'-'+str(x['day'])+'-'+str(x['month'])+' '+str(x['hour']), \"%Y-%M-%d %H\").timestamp(), axis=1)\n"
   ]
  },
  {
   "cell_type": "code",
   "execution_count": null,
   "metadata": {},
   "outputs": [],
   "source": []
  },
  {
   "cell_type": "code",
   "execution_count": null,
   "metadata": {},
   "outputs": [],
   "source": []
  },
  {
   "source": [
    "# CP Decomposition"
   ],
   "cell_type": "markdown",
   "metadata": {}
  },
  {
   "cell_type": "code",
   "execution_count": 97,
   "metadata": {},
   "outputs": [
    {
     "output_type": "execute_result",
     "data": {
      "text/plain": [
       "array([[1.35717126e+09, 4.00000000e+00, 4.00000000e+00, ...,\n",
       "        3.00000000e+02, 7.70000000e+01, 4.00000000e+00],\n",
       "       [1.35717486e+09, 8.00000000e+00, 8.00000000e+00, ...,\n",
       "        3.00000000e+02, 7.70000000e+01, 4.00000000e+00],\n",
       "       [1.35717846e+09, 7.00000000e+00, 7.00000000e+00, ...,\n",
       "        3.00000000e+02, 7.30000000e+01, 5.00000000e+00],\n",
       "       ...,\n",
       "       [1.48339248e+09, 1.60000000e+01, 3.70000000e+01, ...,\n",
       "        7.00000000e+02, 5.80000000e+01, 1.00000000e+01],\n",
       "       [1.48339608e+09, 2.10000000e+01, 4.40000000e+01, ...,\n",
       "        7.00000000e+02, 3.50000000e+01, 1.20000000e+01],\n",
       "       [1.48339968e+09, 1.90000000e+01, 3.10000000e+01, ...,\n",
       "        6.00000000e+02, 4.20000000e+01, 1.00000000e+01]])"
      ]
     },
     "metadata": {},
     "execution_count": 97
    }
   ],
   "source": [
    "X = df[['datetime','PM2.5', 'PM10', 'TEMP', 'PRES', 'CO', 'O3', 'SO2']].values\n",
    "X"
   ]
  },
  {
   "cell_type": "code",
   "execution_count": null,
   "metadata": {},
   "outputs": [],
   "source": []
  },
  {
   "cell_type": "code",
   "execution_count": null,
   "metadata": {},
   "outputs": [],
   "source": []
  },
  {
   "cell_type": "code",
   "execution_count": null,
   "metadata": {},
   "outputs": [],
   "source": []
  },
  {
   "cell_type": "code",
   "execution_count": 98,
   "metadata": {},
   "outputs": [
    {
     "output_type": "error",
     "ename": "RuntimeError",
     "evalue": "CUDA error: an illegal memory access was encountered",
     "traceback": [
      "\u001b[0;31m---------------------------------------------------------------------------\u001b[0m",
      "\u001b[0;31mRuntimeError\u001b[0m                              Traceback (most recent call last)",
      "\u001b[0;32m<ipython-input-98-3c352360cf47>\u001b[0m in \u001b[0;36m<module>\u001b[0;34m\u001b[0m\n\u001b[1;32m      4\u001b[0m \u001b[0mtl\u001b[0m\u001b[0;34m.\u001b[0m\u001b[0mset_backend\u001b[0m\u001b[0;34m(\u001b[0m\u001b[0;34m'pytorch'\u001b[0m\u001b[0;34m)\u001b[0m \u001b[0;31m# Or 'mxnet', 'numpy', 'tensorflow' or 'cupy'\u001b[0m\u001b[0;34m\u001b[0m\u001b[0;34m\u001b[0m\u001b[0m\n\u001b[1;32m      5\u001b[0m \u001b[0;34m\u001b[0m\u001b[0m\n\u001b[0;32m----> 6\u001b[0;31m \u001b[0mtensor\u001b[0m \u001b[0;34m=\u001b[0m \u001b[0mtl\u001b[0m\u001b[0;34m.\u001b[0m\u001b[0mtensor\u001b[0m\u001b[0;34m(\u001b[0m\u001b[0mX\u001b[0m\u001b[0;34m,\u001b[0m \u001b[0mdevice\u001b[0m\u001b[0;34m=\u001b[0m\u001b[0;34m'cuda:0'\u001b[0m\u001b[0;34m)\u001b[0m\u001b[0;34m\u001b[0m\u001b[0;34m\u001b[0m\u001b[0m\n\u001b[0m\u001b[1;32m      7\u001b[0m \u001b[0mtensor\u001b[0m\u001b[0;34m\u001b[0m\u001b[0;34m\u001b[0m\u001b[0m\n",
      "\u001b[0;32m~/miniconda3/envs/ml/lib/python3.8/site-packages/tensorly/backend/__init__.py\u001b[0m in \u001b[0;36minner\u001b[0;34m(*args, **kwargs)\u001b[0m\n\u001b[1;32m    159\u001b[0m \u001b[0;34m\u001b[0m\u001b[0m\n\u001b[1;32m    160\u001b[0m     \u001b[0;32mdef\u001b[0m \u001b[0minner\u001b[0m\u001b[0;34m(\u001b[0m\u001b[0;34m*\u001b[0m\u001b[0margs\u001b[0m\u001b[0;34m,\u001b[0m \u001b[0;34m**\u001b[0m\u001b[0mkwargs\u001b[0m\u001b[0;34m)\u001b[0m\u001b[0;34m:\u001b[0m\u001b[0;34m\u001b[0m\u001b[0;34m\u001b[0m\u001b[0m\n\u001b[0;32m--> 161\u001b[0;31m         \u001b[0;32mreturn\u001b[0m \u001b[0m_get_backend_method\u001b[0m\u001b[0;34m(\u001b[0m\u001b[0mname\u001b[0m\u001b[0;34m)\u001b[0m\u001b[0;34m(\u001b[0m\u001b[0;34m*\u001b[0m\u001b[0margs\u001b[0m\u001b[0;34m,\u001b[0m \u001b[0;34m**\u001b[0m\u001b[0mkwargs\u001b[0m\u001b[0;34m)\u001b[0m\u001b[0;34m\u001b[0m\u001b[0;34m\u001b[0m\u001b[0m\n\u001b[0m\u001b[1;32m    162\u001b[0m \u001b[0;34m\u001b[0m\u001b[0m\n\u001b[1;32m    163\u001b[0m     \u001b[0;31m# We don't use `functools.wraps` here because some of the dispatched\u001b[0m\u001b[0;34m\u001b[0m\u001b[0;34m\u001b[0m\u001b[0;34m\u001b[0m\u001b[0m\n",
      "\u001b[0;32m~/miniconda3/envs/ml/lib/python3.8/site-packages/tensorly/backend/pytorch_backend.py\u001b[0m in \u001b[0;36mtensor\u001b[0;34m(data, dtype, device, requires_grad)\u001b[0m\n\u001b[1;32m     33\u001b[0m         \u001b[0;32mif\u001b[0m \u001b[0misinstance\u001b[0m\u001b[0;34m(\u001b[0m\u001b[0mdata\u001b[0m\u001b[0;34m,\u001b[0m \u001b[0mnp\u001b[0m\u001b[0;34m.\u001b[0m\u001b[0mndarray\u001b[0m\u001b[0;34m)\u001b[0m\u001b[0;34m:\u001b[0m\u001b[0;34m\u001b[0m\u001b[0;34m\u001b[0m\u001b[0m\n\u001b[1;32m     34\u001b[0m             \u001b[0mdata\u001b[0m \u001b[0;34m=\u001b[0m \u001b[0mdata\u001b[0m\u001b[0;34m.\u001b[0m\u001b[0mcopy\u001b[0m\u001b[0;34m(\u001b[0m\u001b[0;34m)\u001b[0m\u001b[0;34m\u001b[0m\u001b[0;34m\u001b[0m\u001b[0m\n\u001b[0;32m---> 35\u001b[0;31m         return torch.tensor(data, dtype=dtype, device=device,\n\u001b[0m\u001b[1;32m     36\u001b[0m                             requires_grad=requires_grad)\n\u001b[1;32m     37\u001b[0m \u001b[0;34m\u001b[0m\u001b[0m\n",
      "\u001b[0;31mRuntimeError\u001b[0m: CUDA error: an illegal memory access was encountered"
     ]
    }
   ],
   "source": [
    "import tensorly as tl\n",
    "import numpy as np\n",
    "\n",
    "tl.set_backend('pytorch') # Or 'mxnet', 'numpy', 'tensorflow' or 'cupy'\n",
    "\n",
    "tensor = tl.tensor(X, device='cuda:0')\n",
    "tensor\n"
   ]
  },
  {
   "cell_type": "code",
   "execution_count": 36,
   "metadata": {},
   "outputs": [
    {
     "output_type": "execute_result",
     "data": {
      "text/plain": [
       "2"
      ]
     },
     "metadata": {},
     "execution_count": 36
    }
   ],
   "source": [
    "from tensorly.decomposition import parafac\n",
    "factors = parafac(tensor, rank=2)\n",
    "len(factors)"
   ]
  },
  {
   "cell_type": "code",
   "execution_count": 37,
   "metadata": {},
   "outputs": [
    {
     "output_type": "execute_result",
     "data": {
      "text/plain": [
       "[tensor([[nan, nan],\n",
       "         [nan, nan],\n",
       "         [nan, nan],\n",
       "         ...,\n",
       "         [nan, nan],\n",
       "         [nan, nan],\n",
       "         [nan, nan]], device='cuda:0'),\n",
       " tensor([[nan, nan],\n",
       "         [nan, nan],\n",
       "         [nan, nan],\n",
       "         [nan, nan],\n",
       "         [nan, nan]], device='cuda:0')]"
      ]
     },
     "metadata": {},
     "execution_count": 37
    }
   ],
   "source": [
    "factors.factors"
   ]
  },
  {
   "cell_type": "code",
   "execution_count": 104,
   "metadata": {},
   "outputs": [
    {
     "output_type": "execute_result",
     "data": {
      "text/plain": [
       "tensor([[0.0000e+00, 1.1173e-03, 2.0367e-03, 2.8098e-01, 6.6132e-01, 2.0202e-02,\n",
       "         1.8162e-01, 1.0902e-02],\n",
       "        [2.8520e-05, 5.5866e-03, 6.1100e-03, 2.7400e-01, 6.6488e-01, 2.0202e-02,\n",
       "         1.8162e-01, 1.0902e-02],\n",
       "        [5.7039e-05, 4.4693e-03, 5.0916e-03, 2.7400e-01, 6.7023e-01, 2.0202e-02,\n",
       "         1.7216e-01, 1.3837e-02],\n",
       "        [8.5559e-05, 3.3520e-03, 4.0733e-03, 2.6876e-01, 6.8806e-01, 2.0202e-02,\n",
       "         1.6979e-01, 3.1447e-02],\n",
       "        [1.1408e-04, 0.0000e+00, 1.0183e-03, 2.5829e-01, 7.0053e-01, 2.0202e-02,\n",
       "         1.6979e-01, 3.4382e-02],\n",
       "        [1.4260e-04, 2.2346e-03, 3.0550e-03, 2.5480e-01, 7.0766e-01, 3.0303e-02,\n",
       "         1.5560e-01, 5.1992e-02],\n",
       "        [1.7112e-04, 0.0000e+00, 1.0183e-03, 2.4782e-01, 7.2371e-01, 4.0404e-02,\n",
       "         1.1776e-01, 5.1992e-02],\n",
       "        [1.9964e-04, 0.0000e+00, 4.0733e-03, 2.6527e-01, 7.3975e-01, 4.0404e-02,\n",
       "         1.0120e-01, 5.4927e-02],\n",
       "        [2.2816e-04, 0.0000e+00, 4.0733e-03, 2.9494e-01, 7.5579e-01, 4.0404e-02,\n",
       "         1.0593e-01, 4.6122e-02],\n",
       "        [2.5668e-04, 0.0000e+00, 6.1100e-03, 3.1414e-01, 7.5936e-01, 3.0303e-02,\n",
       "         1.3904e-01, 3.4382e-02],\n",
       "        [2.8520e-04, 0.0000e+00, 4.0733e-03, 3.2635e-01, 7.5401e-01, 3.0303e-02,\n",
       "         1.6979e-01, 2.5577e-02],\n",
       "        [3.1372e-04, 0.0000e+00, 4.0733e-03, 3.4380e-01, 7.5401e-01, 3.0303e-02,\n",
       "         1.6743e-01, 2.5577e-02],\n",
       "        [3.4224e-04, 0.0000e+00, 4.0733e-03, 3.6126e-01, 7.3797e-01, 2.0202e-02,\n",
       "         1.7452e-01, 1.9707e-02],\n",
       "        [3.7076e-04, 0.0000e+00, 4.0733e-03, 3.8569e-01, 7.1836e-01, 3.0303e-02,\n",
       "         1.7925e-01, 1.9707e-02],\n",
       "        [3.9928e-04, 3.3520e-03, 7.1283e-03, 3.9791e-01, 7.1301e-01, 3.0303e-02,\n",
       "         1.8162e-01, 1.9707e-02],\n",
       "        [4.2780e-04, 5.5866e-03, 1.3238e-02, 4.0140e-01, 7.0945e-01, 3.0303e-02,\n",
       "         1.7925e-01, 1.9707e-02],\n",
       "        [4.5632e-04, 6.7039e-03, 1.7312e-02, 3.9616e-01, 7.0766e-01, 3.0303e-02,\n",
       "         1.7925e-01, 2.5577e-02],\n",
       "        [4.8484e-04, 7.8212e-03, 2.1385e-02, 3.6824e-01, 7.2014e-01, 3.0303e-02,\n",
       "         1.7452e-01, 3.1447e-02],\n",
       "        [5.1336e-04, 8.9385e-03, 1.8330e-02, 3.4729e-01, 7.3975e-01, 4.0404e-02,\n",
       "         1.6506e-01, 2.2642e-02],\n",
       "        [5.4187e-04, 5.5866e-03, 1.2220e-02, 3.3333e-01, 7.5579e-01, 4.0404e-02,\n",
       "         1.4141e-01, 3.4382e-02],\n",
       "        [5.7039e-04, 8.9385e-03, 1.5275e-02, 3.2286e-01, 7.7005e-01, 5.0505e-02,\n",
       "         1.2958e-01, 3.7317e-02],\n",
       "        [5.9891e-04, 1.0056e-02, 1.6293e-02, 3.0366e-01, 7.8788e-01, 4.0404e-02,\n",
       "         1.1776e-01, 4.6122e-02],\n",
       "        [6.2743e-04, 1.3408e-02, 1.7312e-02, 3.0890e-01, 7.9501e-01, 6.0606e-02,\n",
       "         7.5182e-02, 6.0797e-02],\n",
       "        [6.5595e-04, 2.3464e-02, 2.2403e-02, 2.8970e-01, 7.9501e-01, 5.0505e-02,\n",
       "         8.4643e-02, 7.5472e-02],\n",
       "        [4.7533e-07, 2.1229e-02, 2.2403e-02, 2.8621e-01, 8.0392e-01, 4.0404e-02,\n",
       "         1.0356e-01, 6.9602e-02],\n",
       "        [2.8995e-05, 1.2291e-02, 1.5275e-02, 2.7574e-01, 8.0927e-01, 3.0303e-02,\n",
       "         1.1776e-01, 6.0797e-02],\n",
       "        [5.7515e-05, 1.1173e-02, 1.1202e-02, 2.6702e-01, 8.0214e-01, 3.0303e-02,\n",
       "         1.1066e-01, 5.7862e-02],\n",
       "        [8.6035e-05, 0.0000e+00, 7.1283e-03, 2.6876e-01, 7.9679e-01, 3.0303e-02,\n",
       "         1.2249e-01, 3.7317e-02],\n",
       "        [1.1455e-04, 0.0000e+00, 5.0916e-03, 2.6702e-01, 8.0036e-01, 3.0303e-02,\n",
       "         1.0120e-01, 5.1992e-02],\n",
       "        [1.4307e-04, 6.7039e-03, 9.1650e-03, 2.6178e-01, 7.8788e-01, 4.0404e-02,\n",
       "         4.6799e-02, 5.4927e-02]])"
      ]
     },
     "metadata": {},
     "execution_count": 104
    }
   ],
   "source": [
    "from sklearn.preprocessing import MinMaxScaler\n",
    "\n",
    "scaler = MinMaxScaler()\n",
    "X_scaled = scaler.fit_transform(X)\n",
    "tensor = tl.tensor(X_scaled[:30, :])\n",
    "tensor"
   ]
  },
  {
   "cell_type": "code",
   "execution_count": 108,
   "metadata": {},
   "outputs": [
    {
     "output_type": "stream",
     "name": "stdout",
     "text": [
      "Starting iteration 1\nMode 0 of 2\nMode 1 of 2\nreconstruction error=0.03604860231280327\nStarting iteration 2\nMode 0 of 2\nMode 1 of 2\niteration 1, reconstruction error: 0.03604860231280327, decrease = 0.0, unnormalized = 0.16250891983509064\nPARAFAC converged after 1 iterations\n"
     ]
    },
    {
     "output_type": "execute_result",
     "data": {
      "text/plain": [
       "(weights, factors) : rank-2 CPTensor of shape (30, 8) "
      ]
     },
     "metadata": {},
     "execution_count": 108
    }
   ],
   "source": [
    "from tensorly.decomposition import randomised_parafac, parafac\n",
    "# factors = randomised_parafac(tensor, rank=2, verbose=2, n_samples=1000)\n",
    "factors = parafac(tensor, rank=2, verbose=2)\n",
    "factors"
   ]
  },
  {
   "cell_type": "code",
   "execution_count": 110,
   "metadata": {},
   "outputs": [
    {
     "output_type": "execute_result",
     "data": {
      "text/plain": [
       "[tensor([[ 7.3883e-01,  4.5403e-02],\n",
       "         [ 7.3952e-01,  3.9226e-02],\n",
       "         [ 7.4289e-01,  3.0973e-02],\n",
       "         [ 7.5751e-01,  1.5196e-02],\n",
       "         [ 7.6498e-01,  3.0007e-03],\n",
       "         [ 7.6900e-01, -1.5513e-02],\n",
       "         [ 7.7489e-01, -4.9152e-02],\n",
       "         [ 7.9338e-01, -5.4002e-02],\n",
       "         [ 8.1952e-01, -3.5193e-02],\n",
       "         [ 8.3468e-01, -5.2309e-04],\n",
       "         [ 8.3922e-01,  2.9988e-02],\n",
       "         [ 8.4538e-01,  4.0240e-02],\n",
       "         [ 8.3789e-01,  6.4211e-02],\n",
       "         [ 8.3049e-01,  8.9869e-02],\n",
       "         [ 8.3069e-01,  1.0126e-01],\n",
       "         [ 8.2845e-01,  1.0338e-01],\n",
       "         [ 8.2519e-01,  9.9027e-02],\n",
       "         [ 8.2554e-01,  7.1438e-02],\n",
       "         [ 8.3384e-01,  4.6003e-02],\n",
       "         [ 8.3959e-01,  1.4034e-02],\n",
       "         [ 8.4720e-01, -6.8403e-03],\n",
       "         [ 8.5417e-01, -3.4745e-02],\n",
       "         [ 8.5692e-01, -6.4265e-02],\n",
       "         [ 8.5170e-01, -7.4742e-02],\n",
       "         [ 8.6101e-01, -6.6942e-02],\n",
       "         [ 8.6337e-01, -6.4257e-02],\n",
       "         [ 8.5221e-01, -7.0836e-02],\n",
       "         [ 8.4894e-01, -5.5235e-02],\n",
       "         [ 8.4856e-01, -7.3892e-02],\n",
       "         [ 8.2664e-01, -1.0666e-01]]),\n",
       " tensor([[ 3.4263e-04,  9.0499e-04],\n",
       "         [ 6.7206e-03, -3.3856e-02],\n",
       "         [ 1.1753e-02, -1.0352e-02],\n",
       "         [ 3.7627e-01,  6.6760e-01],\n",
       "         [ 9.0852e-01, -3.7115e-01],\n",
       "         [ 4.0898e-02, -7.2229e-02],\n",
       "         [ 1.7023e-01,  5.9166e-01],\n",
       "         [ 4.6597e-02, -2.4500e-01]])]"
      ]
     },
     "metadata": {},
     "execution_count": 110
    }
   ],
   "source": [
    "factors.factors"
   ]
  },
  {
   "cell_type": "code",
   "execution_count": 109,
   "metadata": {},
   "outputs": [
    {
     "output_type": "execute_result",
     "data": {
      "text/plain": [
       "tensor([[ 7.3883e-01,  4.5403e-02],\n",
       "        [ 7.3952e-01,  3.9226e-02],\n",
       "        [ 7.4289e-01,  3.0973e-02],\n",
       "        [ 7.5751e-01,  1.5196e-02],\n",
       "        [ 7.6498e-01,  3.0007e-03],\n",
       "        [ 7.6900e-01, -1.5513e-02],\n",
       "        [ 7.7489e-01, -4.9152e-02],\n",
       "        [ 7.9338e-01, -5.4002e-02],\n",
       "        [ 8.1952e-01, -3.5193e-02],\n",
       "        [ 8.3468e-01, -5.2309e-04],\n",
       "        [ 8.3922e-01,  2.9988e-02],\n",
       "        [ 8.4538e-01,  4.0240e-02],\n",
       "        [ 8.3789e-01,  6.4211e-02],\n",
       "        [ 8.3049e-01,  8.9869e-02],\n",
       "        [ 8.3069e-01,  1.0126e-01],\n",
       "        [ 8.2845e-01,  1.0338e-01],\n",
       "        [ 8.2519e-01,  9.9027e-02],\n",
       "        [ 8.2554e-01,  7.1438e-02],\n",
       "        [ 8.3384e-01,  4.6003e-02],\n",
       "        [ 8.3959e-01,  1.4034e-02],\n",
       "        [ 8.4720e-01, -6.8403e-03],\n",
       "        [ 8.5417e-01, -3.4745e-02],\n",
       "        [ 8.5692e-01, -6.4265e-02],\n",
       "        [ 8.5170e-01, -7.4742e-02],\n",
       "        [ 8.6101e-01, -6.6942e-02],\n",
       "        [ 8.6337e-01, -6.4257e-02],\n",
       "        [ 8.5221e-01, -7.0836e-02],\n",
       "        [ 8.4894e-01, -5.5235e-02],\n",
       "        [ 8.4856e-01, -7.3892e-02],\n",
       "        [ 8.2664e-01, -1.0666e-01]])"
      ]
     },
     "metadata": {},
     "execution_count": 109
    }
   ],
   "source": [
    "factors.factors[0]"
   ]
  },
  {
   "cell_type": "code",
   "execution_count": null,
   "metadata": {},
   "outputs": [],
   "source": []
  },
  {
   "cell_type": "code",
   "execution_count": 19,
   "metadata": {},
   "outputs": [
    {
     "output_type": "execute_result",
     "data": {
      "text/plain": [
       "          No  year  month  day  hour  PM2.5  PM10   SO2   NO2     CO    O3  \\\n",
       "0          1  2013      3    1     0    4.0   4.0   4.0   7.0  300.0  77.0   \n",
       "1          2  2013      3    1     1    8.0   8.0   4.0   7.0  300.0  77.0   \n",
       "2          3  2013      3    1     2    7.0   7.0   5.0  10.0  300.0  73.0   \n",
       "3          4  2013      3    1     3    6.0   6.0  11.0  11.0  300.0  72.0   \n",
       "4          5  2013      3    1     4    3.0   3.0  12.0  12.0  300.0  72.0   \n",
       "...      ...   ...    ...  ...   ...    ...   ...   ...   ...    ...   ...   \n",
       "35059  35060  2017      2   28    19   12.0  29.0   5.0  35.0  400.0  95.0   \n",
       "35060  35061  2017      2   28    20   13.0  37.0   7.0  45.0  500.0  81.0   \n",
       "35061  35062  2017      2   28    21   16.0  37.0  10.0  66.0  700.0  58.0   \n",
       "35062  35063  2017      2   28    22   21.0  44.0  12.0  87.0  700.0  35.0   \n",
       "35063  35064  2017      2   28    23   19.0  31.0  10.0  79.0  600.0  42.0   \n",
       "\n",
       "       TEMP    PRES  DEWP  RAIN   wd  WSPM       station      datetime  \n",
       "0      -0.7  1023.0 -18.8   0.0  NNW   4.4  Aotizhongxin  1.357171e+09  \n",
       "1      -1.1  1023.2 -18.2   0.0    N   4.7  Aotizhongxin  1.357175e+09  \n",
       "2      -1.1  1023.5 -18.2   0.0  NNW   5.6  Aotizhongxin  1.357178e+09  \n",
       "3      -1.4  1024.5 -19.4   0.0   NW   3.1  Aotizhongxin  1.357182e+09  \n",
       "4      -2.0  1025.2 -19.5   0.0    N   2.0  Aotizhongxin  1.357186e+09  \n",
       "...     ...     ...   ...   ...  ...   ...           ...           ...  \n",
       "35059  12.5  1013.5 -16.2   0.0   NW   2.4  Aotizhongxin  1.483385e+09  \n",
       "35060  11.6  1013.6 -15.1   0.0  WNW   0.9  Aotizhongxin  1.483389e+09  \n",
       "35061  10.8  1014.2 -13.3   0.0   NW   1.1  Aotizhongxin  1.483392e+09  \n",
       "35062  10.5  1014.4 -12.9   0.0  NNW   1.2  Aotizhongxin  1.483396e+09  \n",
       "35063   8.6  1014.1 -15.9   0.0  NNE   1.3  Aotizhongxin  1.483400e+09  \n",
       "\n",
       "[35064 rows x 19 columns]"
      ],
      "text/html": "<div>\n<style scoped>\n    .dataframe tbody tr th:only-of-type {\n        vertical-align: middle;\n    }\n\n    .dataframe tbody tr th {\n        vertical-align: top;\n    }\n\n    .dataframe thead th {\n        text-align: right;\n    }\n</style>\n<table border=\"1\" class=\"dataframe\">\n  <thead>\n    <tr style=\"text-align: right;\">\n      <th></th>\n      <th>No</th>\n      <th>year</th>\n      <th>month</th>\n      <th>day</th>\n      <th>hour</th>\n      <th>PM2.5</th>\n      <th>PM10</th>\n      <th>SO2</th>\n      <th>NO2</th>\n      <th>CO</th>\n      <th>O3</th>\n      <th>TEMP</th>\n      <th>PRES</th>\n      <th>DEWP</th>\n      <th>RAIN</th>\n      <th>wd</th>\n      <th>WSPM</th>\n      <th>station</th>\n      <th>datetime</th>\n    </tr>\n  </thead>\n  <tbody>\n    <tr>\n      <th>0</th>\n      <td>1</td>\n      <td>2013</td>\n      <td>3</td>\n      <td>1</td>\n      <td>0</td>\n      <td>4.0</td>\n      <td>4.0</td>\n      <td>4.0</td>\n      <td>7.0</td>\n      <td>300.0</td>\n      <td>77.0</td>\n      <td>-0.7</td>\n      <td>1023.0</td>\n      <td>-18.8</td>\n      <td>0.0</td>\n      <td>NNW</td>\n      <td>4.4</td>\n      <td>Aotizhongxin</td>\n      <td>1.357171e+09</td>\n    </tr>\n    <tr>\n      <th>1</th>\n      <td>2</td>\n      <td>2013</td>\n      <td>3</td>\n      <td>1</td>\n      <td>1</td>\n      <td>8.0</td>\n      <td>8.0</td>\n      <td>4.0</td>\n      <td>7.0</td>\n      <td>300.0</td>\n      <td>77.0</td>\n      <td>-1.1</td>\n      <td>1023.2</td>\n      <td>-18.2</td>\n      <td>0.0</td>\n      <td>N</td>\n      <td>4.7</td>\n      <td>Aotizhongxin</td>\n      <td>1.357175e+09</td>\n    </tr>\n    <tr>\n      <th>2</th>\n      <td>3</td>\n      <td>2013</td>\n      <td>3</td>\n      <td>1</td>\n      <td>2</td>\n      <td>7.0</td>\n      <td>7.0</td>\n      <td>5.0</td>\n      <td>10.0</td>\n      <td>300.0</td>\n      <td>73.0</td>\n      <td>-1.1</td>\n      <td>1023.5</td>\n      <td>-18.2</td>\n      <td>0.0</td>\n      <td>NNW</td>\n      <td>5.6</td>\n      <td>Aotizhongxin</td>\n      <td>1.357178e+09</td>\n    </tr>\n    <tr>\n      <th>3</th>\n      <td>4</td>\n      <td>2013</td>\n      <td>3</td>\n      <td>1</td>\n      <td>3</td>\n      <td>6.0</td>\n      <td>6.0</td>\n      <td>11.0</td>\n      <td>11.0</td>\n      <td>300.0</td>\n      <td>72.0</td>\n      <td>-1.4</td>\n      <td>1024.5</td>\n      <td>-19.4</td>\n      <td>0.0</td>\n      <td>NW</td>\n      <td>3.1</td>\n      <td>Aotizhongxin</td>\n      <td>1.357182e+09</td>\n    </tr>\n    <tr>\n      <th>4</th>\n      <td>5</td>\n      <td>2013</td>\n      <td>3</td>\n      <td>1</td>\n      <td>4</td>\n      <td>3.0</td>\n      <td>3.0</td>\n      <td>12.0</td>\n      <td>12.0</td>\n      <td>300.0</td>\n      <td>72.0</td>\n      <td>-2.0</td>\n      <td>1025.2</td>\n      <td>-19.5</td>\n      <td>0.0</td>\n      <td>N</td>\n      <td>2.0</td>\n      <td>Aotizhongxin</td>\n      <td>1.357186e+09</td>\n    </tr>\n    <tr>\n      <th>...</th>\n      <td>...</td>\n      <td>...</td>\n      <td>...</td>\n      <td>...</td>\n      <td>...</td>\n      <td>...</td>\n      <td>...</td>\n      <td>...</td>\n      <td>...</td>\n      <td>...</td>\n      <td>...</td>\n      <td>...</td>\n      <td>...</td>\n      <td>...</td>\n      <td>...</td>\n      <td>...</td>\n      <td>...</td>\n      <td>...</td>\n      <td>...</td>\n    </tr>\n    <tr>\n      <th>35059</th>\n      <td>35060</td>\n      <td>2017</td>\n      <td>2</td>\n      <td>28</td>\n      <td>19</td>\n      <td>12.0</td>\n      <td>29.0</td>\n      <td>5.0</td>\n      <td>35.0</td>\n      <td>400.0</td>\n      <td>95.0</td>\n      <td>12.5</td>\n      <td>1013.5</td>\n      <td>-16.2</td>\n      <td>0.0</td>\n      <td>NW</td>\n      <td>2.4</td>\n      <td>Aotizhongxin</td>\n      <td>1.483385e+09</td>\n    </tr>\n    <tr>\n      <th>35060</th>\n      <td>35061</td>\n      <td>2017</td>\n      <td>2</td>\n      <td>28</td>\n      <td>20</td>\n      <td>13.0</td>\n      <td>37.0</td>\n      <td>7.0</td>\n      <td>45.0</td>\n      <td>500.0</td>\n      <td>81.0</td>\n      <td>11.6</td>\n      <td>1013.6</td>\n      <td>-15.1</td>\n      <td>0.0</td>\n      <td>WNW</td>\n      <td>0.9</td>\n      <td>Aotizhongxin</td>\n      <td>1.483389e+09</td>\n    </tr>\n    <tr>\n      <th>35061</th>\n      <td>35062</td>\n      <td>2017</td>\n      <td>2</td>\n      <td>28</td>\n      <td>21</td>\n      <td>16.0</td>\n      <td>37.0</td>\n      <td>10.0</td>\n      <td>66.0</td>\n      <td>700.0</td>\n      <td>58.0</td>\n      <td>10.8</td>\n      <td>1014.2</td>\n      <td>-13.3</td>\n      <td>0.0</td>\n      <td>NW</td>\n      <td>1.1</td>\n      <td>Aotizhongxin</td>\n      <td>1.483392e+09</td>\n    </tr>\n    <tr>\n      <th>35062</th>\n      <td>35063</td>\n      <td>2017</td>\n      <td>2</td>\n      <td>28</td>\n      <td>22</td>\n      <td>21.0</td>\n      <td>44.0</td>\n      <td>12.0</td>\n      <td>87.0</td>\n      <td>700.0</td>\n      <td>35.0</td>\n      <td>10.5</td>\n      <td>1014.4</td>\n      <td>-12.9</td>\n      <td>0.0</td>\n      <td>NNW</td>\n      <td>1.2</td>\n      <td>Aotizhongxin</td>\n      <td>1.483396e+09</td>\n    </tr>\n    <tr>\n      <th>35063</th>\n      <td>35064</td>\n      <td>2017</td>\n      <td>2</td>\n      <td>28</td>\n      <td>23</td>\n      <td>19.0</td>\n      <td>31.0</td>\n      <td>10.0</td>\n      <td>79.0</td>\n      <td>600.0</td>\n      <td>42.0</td>\n      <td>8.6</td>\n      <td>1014.1</td>\n      <td>-15.9</td>\n      <td>0.0</td>\n      <td>NNE</td>\n      <td>1.3</td>\n      <td>Aotizhongxin</td>\n      <td>1.483400e+09</td>\n    </tr>\n  </tbody>\n</table>\n<p>35064 rows × 19 columns</p>\n</div>"
     },
     "metadata": {},
     "execution_count": 19
    }
   ],
   "source": [
    "df"
   ]
  },
  {
   "cell_type": "code",
   "execution_count": null,
   "metadata": {},
   "outputs": [],
   "source": []
  }
 ]
}